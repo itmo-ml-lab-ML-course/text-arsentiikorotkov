{
 "cells": [
  {
   "cell_type": "code",
   "execution_count": 1,
   "outputs": [],
   "source": [
    "import pandas as pd\n",
    "import requests\n",
    "\n",
    "from random import shuffle"
   ],
   "metadata": {
    "collapsed": false
   }
  },
  {
   "cell_type": "code",
   "execution_count": 2,
   "outputs": [],
   "source": [
    "reviews_url = 'https://store.steampowered.com/appreviews/'\n",
    "headers = {'User-Agent': 'Mozilla/5.0'}\n",
    "\n",
    "game_id = '367520'\n",
    "url = reviews_url + game_id\n",
    "\n",
    "params = {\n",
    "    'json': 1,\n",
    "    'language': 'english',\n",
    "    'filter': 'recent',\n",
    "    'cursor': '*'.encode(),\n",
    "    'num_per_page': 100\n",
    "}"
   ],
   "metadata": {
    "collapsed": false
   }
  },
  {
   "cell_type": "code",
   "execution_count": 3,
   "outputs": [],
   "source": [
    "def get_reviews_from_request():\n",
    "    response = requests.get(url=url, params=params, headers=headers)\n",
    "    return response.json(), response.status_code\n",
    "\n",
    "\n",
    "def get_reviews(requests_num):\n",
    "    reviews = []\n",
    "\n",
    "    while requests_num > 0:\n",
    "        response, code = get_reviews_from_request()\n",
    "        print(code)\n",
    "\n",
    "        params[\"cursor\"] = response['cursor'].encode()\n",
    "        reviews += response['reviews']\n",
    "        requests_num -= 1\n",
    "\n",
    "    return reviews"
   ],
   "metadata": {
    "collapsed": false
   }
  },
  {
   "cell_type": "code",
   "execution_count": 4,
   "outputs": [],
   "source": [
    "def make_csv(reviews):\n",
    "    df = pd.DataFrame(\n",
    "        [{'review': review['review']} | {'voted_up': review['voted_up']} for review in reviews]\n",
    "    )\n",
    "\n",
    "    df.to_csv('reviews.csv')"
   ],
   "metadata": {
    "collapsed": false
   }
  },
  {
   "cell_type": "code",
   "execution_count": 5,
   "outputs": [],
   "source": [
    "def parse(pos_requests_num=10, neg_requests_num=10):\n",
    "    params['review_type'] = 'negative'\n",
    "    neg_reviews = get_reviews(neg_requests_num)\n",
    "\n",
    "    params['review_type'] = 'positive'\n",
    "    pos_reviews = get_reviews(pos_requests_num)\n",
    "\n",
    "    reviews = neg_reviews + pos_reviews\n",
    "    shuffle(reviews)\n",
    "\n",
    "    make_csv(reviews=reviews)"
   ],
   "metadata": {
    "collapsed": false
   }
  },
  {
   "cell_type": "code",
   "execution_count": 6,
   "outputs": [
    {
     "name": "stdout",
     "output_type": "stream",
     "text": [
      "200\n",
      "200\n",
      "200\n",
      "200\n",
      "200\n",
      "200\n",
      "200\n",
      "200\n",
      "200\n",
      "200\n",
      "200\n",
      "200\n",
      "200\n",
      "200\n",
      "200\n",
      "200\n",
      "200\n",
      "200\n",
      "200\n",
      "200\n",
      "200\n",
      "200\n",
      "200\n",
      "200\n",
      "200\n",
      "200\n",
      "200\n",
      "200\n",
      "200\n",
      "200\n",
      "200\n",
      "200\n",
      "200\n",
      "200\n",
      "200\n",
      "200\n",
      "200\n",
      "200\n",
      "200\n",
      "200\n",
      "200\n",
      "200\n",
      "200\n",
      "200\n",
      "200\n",
      "200\n",
      "200\n",
      "200\n",
      "200\n",
      "200\n"
     ]
    }
   ],
   "source": [
    "parse(25, 25)"
   ],
   "metadata": {
    "collapsed": false
   }
  }
 ],
 "metadata": {
  "kernelspec": {
   "display_name": "Python 3",
   "language": "python",
   "name": "python3"
  },
  "language_info": {
   "codemirror_mode": {
    "name": "ipython",
    "version": 2
   },
   "file_extension": ".py",
   "mimetype": "text/x-python",
   "name": "python",
   "nbconvert_exporter": "python",
   "pygments_lexer": "ipython2",
   "version": "2.7.6"
  }
 },
 "nbformat": 4,
 "nbformat_minor": 0
}
